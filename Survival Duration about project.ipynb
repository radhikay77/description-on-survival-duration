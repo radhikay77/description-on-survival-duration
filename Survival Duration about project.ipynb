{
 "cells": [
  {
   "cell_type": "code",
   "execution_count": null,
   "id": "b07282aa-7959-44df-8000-525f090a7327",
   "metadata": {},
   "outputs": [],
   "source": [
    "Survival Duration Calculator\n",
    "\n",
    "## Project Description\n",
    "The Survival Duration Calculator is a simple Python program that calculates how long a person has lived in various time units, such as months, weeks, days, hours, minutes, and seconds.\n",
    "\n",
    "## Features\n",
    "- Accepts age in years as input.\n",
    "- Allows the user to choose from six different time units for calculation.\n",
    "- Includes basic error handling for invalid inputs.\n",
    "\n",
    "## Thought Process\n",
    "1. Simplify the problem into manageable steps.\n",
    "2. Use functions to make the code reusable and modular.\n",
    "3. Handle edge cases, such as invalid inputs and negative age."
   ]
  }
 ],
 "metadata": {
  "kernelspec": {
   "display_name": "Python 3 (ipykernel)",
   "language": "python",
   "name": "python3"
  },
  "language_info": {
   "codemirror_mode": {
    "name": "ipython",
    "version": 3
   },
   "file_extension": ".py",
   "mimetype": "text/x-python",
   "name": "python",
   "nbconvert_exporter": "python",
   "pygments_lexer": "ipython3",
   "version": "3.12.4"
  }
 },
 "nbformat": 4,
 "nbformat_minor": 5
}
